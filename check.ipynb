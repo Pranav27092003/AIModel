{
 "cells": [
  {
   "cell_type": "code",
   "execution_count": null,
   "metadata": {},
   "outputs": [],
   "source": [
    "import pickle   \n",
    "from sklearn.ensemble import RandomForestClassifier\n",
    "from sklearn.model_selection import train_test_split\n",
    "from sklearn.metrics import accuracy_score\n",
    "import numpy as np\n",
    "\n",
    "\n",
    "\n"
   ]
  },
  {
   "cell_type": "code",
   "execution_count": null,
   "metadata": {},
   "outputs": [
    {
     "name": "stdout",
     "output_type": "stream",
     "text": [
      "2550\n"
     ]
    }
   ],
   "source": [
    "data_dict = pickle.load(open('D:\\My-Projects\\sign-language-detector-python-master\\data.pickle', 'rb'))\n",
    "#data = np.asarray(data_dict['data'])\n",
    "labels = np.asarray(data_dict['labels'])\n",
    "\n",
    "print(len(data_dict['data']))\n",
    "\n"
   ]
  },
  {
   "cell_type": "code",
   "execution_count": null,
   "metadata": {},
   "outputs": [
    {
     "data": {
      "text/plain": [
       "list"
      ]
     },
     "execution_count": 22,
     "metadata": {},
     "output_type": "execute_result"
    }
   ],
   "source": [
    "type(data_dict['data'])"
   ]
  },
  {
   "cell_type": "code",
   "execution_count": 24,
   "metadata": {},
   "outputs": [
    {
     "name": "stdout",
     "output_type": "stream",
     "text": [
      "184 84\n",
      "205 84\n",
      "216 84\n",
      "227 84\n",
      "260 84\n",
      "271 84\n",
      "468 84\n",
      "469 84\n",
      "470 84\n",
      "475 84\n",
      "476 84\n",
      "477 84\n",
      "478 84\n",
      "479 84\n",
      "480 84\n",
      "481 84\n",
      "482 84\n",
      "483 84\n",
      "484 84\n",
      "485 84\n",
      "486 84\n",
      "487 84\n",
      "488 84\n",
      "489 84\n",
      "490 84\n",
      "493 84\n",
      "494 84\n",
      "495 84\n",
      "496 84\n",
      "497 84\n",
      "500 84\n",
      "503 84\n",
      "505 84\n",
      "508 84\n",
      "509 84\n",
      "510 84\n",
      "511 84\n",
      "512 84\n",
      "513 84\n",
      "514 84\n",
      "515 84\n",
      "516 84\n",
      "517 84\n",
      "518 84\n",
      "519 84\n",
      "520 84\n",
      "524 84\n",
      "525 84\n",
      "526 84\n",
      "527 84\n",
      "531 84\n",
      "532 84\n",
      "534 84\n",
      "535 84\n",
      "536 84\n",
      "537 84\n",
      "538 84\n",
      "539 84\n",
      "540 84\n",
      "541 84\n",
      "542 84\n",
      "543 84\n",
      "544 84\n",
      "545 84\n",
      "546 84\n",
      "547 84\n",
      "548 84\n",
      "549 84\n",
      "551 84\n",
      "552 84\n",
      "553 84\n",
      "554 84\n",
      "557 84\n",
      "558 84\n",
      "559 84\n",
      "560 84\n",
      "561 84\n",
      "562 84\n",
      "563 84\n",
      "564 84\n",
      "565 84\n",
      "567 84\n",
      "568 84\n",
      "569 84\n",
      "571 84\n",
      "579 84\n",
      "580 84\n",
      "581 84\n",
      "831 84\n"
     ]
    }
   ],
   "source": [
    "\n",
    "for i in  range(984):\n",
    "    if(len(data_dict['data'][i])== 84):\n",
    "        print(i, len(data_dict['data'][i]))"
   ]
  }
 ],
 "metadata": {
  "kernelspec": {
   "display_name": "Python 3",
   "language": "python",
   "name": "python3"
  },
  "language_info": {
   "codemirror_mode": {
    "name": "ipython",
    "version": 3
   },
   "file_extension": ".py",
   "mimetype": "text/x-python",
   "name": "python",
   "nbconvert_exporter": "python",
   "pygments_lexer": "ipython3",
   "version": "3.11.5"
  }
 },
 "nbformat": 4,
 "nbformat_minor": 2
}
